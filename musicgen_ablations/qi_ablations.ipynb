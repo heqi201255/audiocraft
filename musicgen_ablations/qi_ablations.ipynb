{
 "cells": [
  {
   "cell_type": "code",
   "execution_count": null,
   "id": "initial_id",
   "metadata": {
    "collapsed": true
   },
   "outputs": [],
   "source": [
    "from audiocraft.models import MusicGen\n",
    "import torchaudio\n",
    "from audiocraft.utils.notebook import display_audio\n",
    "\n",
    "model = MusicGen.get_pretrained('facebook/musicgen-large')"
   ]
  },
  {
   "metadata": {},
   "cell_type": "code",
   "outputs": [],
   "execution_count": null,
   "source": [
    "model.set_generation_params(\n",
    "    use_sampling=True,\n",
    "    top_k=250,\n",
    "    duration=30,\n",
    "    extend_stride=10\n",
    ")"
   ],
   "id": "d577a7a07796d995"
  },
  {
   "metadata": {},
   "cell_type": "code",
   "outputs": [],
   "execution_count": null,
   "source": [
    "def generate(text_prompt: str):\n",
    "    output = model.generate(descriptions=[text_prompt], progress=True, return_tokens=False)\n",
    "    torchaudio.save(\"./outputs/generated_demo.mp3\", output[0], 32000)\n",
    "    display_audio(output, sample_rate=32000)"
   ],
   "id": "9346a53cac91c0ed"
  },
  {
   "metadata": {},
   "cell_type": "code",
   "outputs": [],
   "execution_count": null,
   "source": [
    "def generate_continuation(text_prompt: str, audio_file: str):\n",
    "    prompt_waveform, prompt_sr = torchaudio.load(audio_file)\n",
    "    prompt_duration = 20\n",
    "    prompt_waveform = prompt_waveform[..., :int(prompt_duration * prompt_sr)]\n",
    "    output = model.generate_continuation(prompt_waveform, descriptions=[text_prompt], prompt_sample_rate=prompt_sr, progress=True, return_tokens=False)\n",
    "    torchaudio.save(\"./outputs/continuation_demo.mp3\", output[0], 32000)\n",
    "    display_audio(output, sample_rate=32000)"
   ],
   "id": "80f12dd227aa795c"
  }
 ],
 "metadata": {
  "kernelspec": {
   "display_name": "Python 3",
   "language": "python",
   "name": "python3"
  },
  "language_info": {
   "codemirror_mode": {
    "name": "ipython",
    "version": 2
   },
   "file_extension": ".py",
   "mimetype": "text/x-python",
   "name": "python",
   "nbconvert_exporter": "python",
   "pygments_lexer": "ipython2",
   "version": "2.7.6"
  }
 },
 "nbformat": 4,
 "nbformat_minor": 5
}
